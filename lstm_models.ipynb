{
 "cells": [
  {
   "cell_type": "markdown",
   "metadata": {},
   "source": [
    "## Preparing Dataset for Central London CO, NO, PM10 and PM2.5 forecast"
   ]
  },
  {
   "cell_type": "code",
   "execution_count": 26,
   "metadata": {},
   "outputs": [],
   "source": [
    "from glob import glob\n",
    "from numpy import isnan\n",
    "from pandas import read_csv,to_datetime, concat, merge\n",
    "from matplotlib import pyplot"
   ]
  },
  {
   "cell_type": "code",
   "execution_count": 2,
   "metadata": {},
   "outputs": [],
   "source": [
    "# fill missing values with the data available at last timestamp\n",
    "def fill_missing(df):\n",
    "    for row in range( df.shape[0] ):\n",
    "        if isnan(df.Value[row]):\n",
    "            if row == 0:\n",
    "                df.Value[row] = 0\n",
    "            else:\n",
    "                df.Value[row] = df.Value[row - 1]\n",
    "    return df"
   ]
  },
  {
   "cell_type": "code",
   "execution_count": 5,
   "metadata": {},
   "outputs": [],
   "source": [
    "# Species list\n",
    "species = ['CO', 'NO', 'PM10', 'PM2.5']"
   ]
  },
  {
   "cell_type": "markdown",
   "metadata": {},
   "source": [
    "### Load data files of different areas of Central London"
   ]
  },
  {
   "cell_type": "code",
   "execution_count": 19,
   "metadata": {},
   "outputs": [
    {
     "name": "stderr",
     "output_type": "stream",
     "text": [
      "/home/ravi/anaconda3/envs/opencv-env/lib/python3.7/site-packages/ipykernel_launcher.py:8: SettingWithCopyWarning: \n",
      "A value is trying to be set on a copy of a slice from a DataFrame\n",
      "\n",
      "See the caveats in the documentation: https://pandas.pydata.org/pandas-docs/stable/user_guide/indexing.html#returning-a-view-versus-a-copy\n",
      "  \n",
      "/home/ravi/anaconda3/envs/opencv-env/lib/python3.7/site-packages/ipykernel_launcher.py:13: SettingWithCopyWarning: \n",
      "A value is trying to be set on a copy of a slice from a DataFrame\n",
      "\n",
      "See the caveats in the documentation: https://pandas.pydata.org/pandas-docs/stable/user_guide/indexing.html#returning-a-view-versus-a-copy\n",
      "  del sys.path[0]\n",
      "/home/ravi/anaconda3/envs/opencv-env/lib/python3.7/site-packages/ipykernel_launcher.py:6: SettingWithCopyWarning: \n",
      "A value is trying to be set on a copy of a slice from a DataFrame\n",
      "\n",
      "See the caveats in the documentation: https://pandas.pydata.org/pandas-docs/stable/user_guide/indexing.html#returning-a-view-versus-a-copy\n",
      "  \n"
     ]
    }
   ],
   "source": [
    "# All data files contains data from 01-Jan-2020 to 24-Jan-2020 on 15 minutes interval.\n",
    "# Different data files from different sites and each file contains site location in file name\n",
    "# Final dataframe\n",
    "final_df = None\n",
    "for file in glob(\"./data/LaqnData*.csv\"):\n",
    "    df = read_csv(file)\n",
    "    df = df.drop({'Units','Provisional or Ratified'}, axis=1)\n",
    "    for specie in species:\n",
    "        df_specie = df.loc[df['Species'] == specie]\n",
    "        if not df_specie.empty:\n",
    "            if df_specie.shape[0] > df_specie.Value.isnull().sum():\n",
    "                df_specie.reset_index(drop=True, inplace=True)\n",
    "                df_specie = fill_missing( df_specie )\n",
    "                df_specie = df_specie.drop({'Site','Species'}, axis=1 )\n",
    "                df_specie.rename({'Value': specie}, inplace=True, axis=1)\n",
    "                df_specie['ReadingDateTime'] = to_datetime(df_specie.ReadingDateTime)\n",
    "                df_specie.set_index('ReadingDateTime',inplace=True)\n",
    "                df_specie = df_specie.resample( '30Min' )\n",
    "                df_specie = df_specie.mean()\n",
    "                if final_df is None:\n",
    "                    final_df = df_specie\n",
    "                elif specie in final_df.columns:\n",
    "                    final_df = concat([final_df, df_specie])\n",
    "                    final_df = final_df.resample( '30Min' )\n",
    "                    final_df = final_df.mean()\n",
    "                else:\n",
    "    #                 print(specie)\n",
    "                    final_df = merge(final_df, df_specie, on='ReadingDateTime')\n",
    "            "
   ]
  },
  {
   "cell_type": "code",
   "execution_count": 25,
   "metadata": {},
   "outputs": [
    {
     "data": {
      "text/html": [
       "<div>\n",
       "<style scoped>\n",
       "    .dataframe tbody tr th:only-of-type {\n",
       "        vertical-align: middle;\n",
       "    }\n",
       "\n",
       "    .dataframe tbody tr th {\n",
       "        vertical-align: top;\n",
       "    }\n",
       "\n",
       "    .dataframe thead th {\n",
       "        text-align: right;\n",
       "    }\n",
       "</style>\n",
       "<table border=\"1\" class=\"dataframe\">\n",
       "  <thead>\n",
       "    <tr style=\"text-align: right;\">\n",
       "      <th></th>\n",
       "      <th>NO</th>\n",
       "      <th>PM10</th>\n",
       "      <th>PM2.5</th>\n",
       "      <th>CO</th>\n",
       "    </tr>\n",
       "    <tr>\n",
       "      <th>ReadingDateTime</th>\n",
       "      <th></th>\n",
       "      <th></th>\n",
       "      <th></th>\n",
       "      <th></th>\n",
       "    </tr>\n",
       "  </thead>\n",
       "  <tbody>\n",
       "    <tr>\n",
       "      <th>2020-01-01 00:00:00</th>\n",
       "      <td>19.996973</td>\n",
       "      <td>56.893359</td>\n",
       "      <td>56.03750</td>\n",
       "      <td>0.40</td>\n",
       "    </tr>\n",
       "    <tr>\n",
       "      <th>2020-01-01 00:30:00</th>\n",
       "      <td>27.111914</td>\n",
       "      <td>60.546875</td>\n",
       "      <td>56.03750</td>\n",
       "      <td>0.40</td>\n",
       "    </tr>\n",
       "    <tr>\n",
       "      <th>2020-01-01 01:00:00</th>\n",
       "      <td>29.509375</td>\n",
       "      <td>61.082813</td>\n",
       "      <td>49.26875</td>\n",
       "      <td>0.40</td>\n",
       "    </tr>\n",
       "    <tr>\n",
       "      <th>2020-01-01 01:30:00</th>\n",
       "      <td>30.434473</td>\n",
       "      <td>61.300781</td>\n",
       "      <td>49.26875</td>\n",
       "      <td>0.40</td>\n",
       "    </tr>\n",
       "    <tr>\n",
       "      <th>2020-01-01 02:00:00</th>\n",
       "      <td>32.455176</td>\n",
       "      <td>56.439062</td>\n",
       "      <td>46.58750</td>\n",
       "      <td>0.40</td>\n",
       "    </tr>\n",
       "    <tr>\n",
       "      <th>2020-01-01 02:30:00</th>\n",
       "      <td>23.069824</td>\n",
       "      <td>50.443750</td>\n",
       "      <td>46.58750</td>\n",
       "      <td>0.40</td>\n",
       "    </tr>\n",
       "    <tr>\n",
       "      <th>2020-01-01 03:00:00</th>\n",
       "      <td>20.281543</td>\n",
       "      <td>44.059766</td>\n",
       "      <td>40.36875</td>\n",
       "      <td>0.40</td>\n",
       "    </tr>\n",
       "    <tr>\n",
       "      <th>2020-01-01 03:30:00</th>\n",
       "      <td>21.913379</td>\n",
       "      <td>42.475000</td>\n",
       "      <td>40.36875</td>\n",
       "      <td>0.40</td>\n",
       "    </tr>\n",
       "    <tr>\n",
       "      <th>2020-01-01 04:00:00</th>\n",
       "      <td>16.217480</td>\n",
       "      <td>39.350391</td>\n",
       "      <td>38.63750</td>\n",
       "      <td>0.40</td>\n",
       "    </tr>\n",
       "    <tr>\n",
       "      <th>2020-01-01 04:30:00</th>\n",
       "      <td>17.055273</td>\n",
       "      <td>38.837109</td>\n",
       "      <td>38.63750</td>\n",
       "      <td>0.40</td>\n",
       "    </tr>\n",
       "    <tr>\n",
       "      <th>2020-01-01 05:00:00</th>\n",
       "      <td>14.932520</td>\n",
       "      <td>38.804297</td>\n",
       "      <td>36.54375</td>\n",
       "      <td>0.40</td>\n",
       "    </tr>\n",
       "    <tr>\n",
       "      <th>2020-01-01 05:30:00</th>\n",
       "      <td>16.630762</td>\n",
       "      <td>38.046094</td>\n",
       "      <td>36.54375</td>\n",
       "      <td>0.30</td>\n",
       "    </tr>\n",
       "    <tr>\n",
       "      <th>2020-01-01 06:00:00</th>\n",
       "      <td>22.310352</td>\n",
       "      <td>34.737109</td>\n",
       "      <td>32.98750</td>\n",
       "      <td>0.30</td>\n",
       "    </tr>\n",
       "    <tr>\n",
       "      <th>2020-01-01 06:30:00</th>\n",
       "      <td>19.805469</td>\n",
       "      <td>34.488672</td>\n",
       "      <td>32.98750</td>\n",
       "      <td>0.35</td>\n",
       "    </tr>\n",
       "    <tr>\n",
       "      <th>2020-01-01 07:00:00</th>\n",
       "      <td>19.715723</td>\n",
       "      <td>33.086719</td>\n",
       "      <td>30.23125</td>\n",
       "      <td>0.40</td>\n",
       "    </tr>\n",
       "    <tr>\n",
       "      <th>2020-01-01 07:30:00</th>\n",
       "      <td>22.535254</td>\n",
       "      <td>33.034766</td>\n",
       "      <td>30.23125</td>\n",
       "      <td>0.40</td>\n",
       "    </tr>\n",
       "    <tr>\n",
       "      <th>2020-01-01 08:00:00</th>\n",
       "      <td>35.328711</td>\n",
       "      <td>34.206250</td>\n",
       "      <td>33.29375</td>\n",
       "      <td>0.40</td>\n",
       "    </tr>\n",
       "    <tr>\n",
       "      <th>2020-01-01 08:30:00</th>\n",
       "      <td>36.997559</td>\n",
       "      <td>32.963281</td>\n",
       "      <td>33.29375</td>\n",
       "      <td>0.45</td>\n",
       "    </tr>\n",
       "    <tr>\n",
       "      <th>2020-01-01 09:00:00</th>\n",
       "      <td>41.030469</td>\n",
       "      <td>34.375781</td>\n",
       "      <td>34.21250</td>\n",
       "      <td>0.50</td>\n",
       "    </tr>\n",
       "    <tr>\n",
       "      <th>2020-01-01 09:30:00</th>\n",
       "      <td>53.954883</td>\n",
       "      <td>34.631250</td>\n",
       "      <td>34.21250</td>\n",
       "      <td>0.50</td>\n",
       "    </tr>\n",
       "    <tr>\n",
       "      <th>2020-01-01 10:00:00</th>\n",
       "      <td>51.269141</td>\n",
       "      <td>34.155469</td>\n",
       "      <td>33.31250</td>\n",
       "      <td>0.55</td>\n",
       "    </tr>\n",
       "    <tr>\n",
       "      <th>2020-01-01 10:30:00</th>\n",
       "      <td>51.052539</td>\n",
       "      <td>32.903906</td>\n",
       "      <td>33.31250</td>\n",
       "      <td>0.60</td>\n",
       "    </tr>\n",
       "    <tr>\n",
       "      <th>2020-01-01 11:00:00</th>\n",
       "      <td>48.000195</td>\n",
       "      <td>35.913281</td>\n",
       "      <td>32.78125</td>\n",
       "      <td>0.60</td>\n",
       "    </tr>\n",
       "    <tr>\n",
       "      <th>2020-01-01 11:30:00</th>\n",
       "      <td>45.440918</td>\n",
       "      <td>35.935547</td>\n",
       "      <td>32.78125</td>\n",
       "      <td>0.55</td>\n",
       "    </tr>\n",
       "    <tr>\n",
       "      <th>2020-01-01 12:00:00</th>\n",
       "      <td>36.500586</td>\n",
       "      <td>36.070703</td>\n",
       "      <td>32.76250</td>\n",
       "      <td>0.40</td>\n",
       "    </tr>\n",
       "    <tr>\n",
       "      <th>2020-01-01 12:30:00</th>\n",
       "      <td>25.978906</td>\n",
       "      <td>34.618359</td>\n",
       "      <td>32.76250</td>\n",
       "      <td>0.40</td>\n",
       "    </tr>\n",
       "    <tr>\n",
       "      <th>2020-01-01 13:00:00</th>\n",
       "      <td>24.805078</td>\n",
       "      <td>36.510547</td>\n",
       "      <td>35.80000</td>\n",
       "      <td>0.40</td>\n",
       "    </tr>\n",
       "    <tr>\n",
       "      <th>2020-01-01 13:30:00</th>\n",
       "      <td>24.355566</td>\n",
       "      <td>37.808203</td>\n",
       "      <td>35.80000</td>\n",
       "      <td>0.40</td>\n",
       "    </tr>\n",
       "    <tr>\n",
       "      <th>2020-01-01 14:00:00</th>\n",
       "      <td>29.493164</td>\n",
       "      <td>37.419141</td>\n",
       "      <td>35.14375</td>\n",
       "      <td>0.40</td>\n",
       "    </tr>\n",
       "    <tr>\n",
       "      <th>2020-01-01 14:30:00</th>\n",
       "      <td>21.905664</td>\n",
       "      <td>37.402344</td>\n",
       "      <td>35.14375</td>\n",
       "      <td>0.40</td>\n",
       "    </tr>\n",
       "    <tr>\n",
       "      <th>2020-01-01 15:00:00</th>\n",
       "      <td>23.124219</td>\n",
       "      <td>36.575000</td>\n",
       "      <td>33.53125</td>\n",
       "      <td>0.35</td>\n",
       "    </tr>\n",
       "    <tr>\n",
       "      <th>2020-01-01 15:30:00</th>\n",
       "      <td>18.323242</td>\n",
       "      <td>36.525781</td>\n",
       "      <td>33.53125</td>\n",
       "      <td>0.30</td>\n",
       "    </tr>\n",
       "    <tr>\n",
       "      <th>2020-01-01 16:00:00</th>\n",
       "      <td>14.802051</td>\n",
       "      <td>31.931250</td>\n",
       "      <td>31.70625</td>\n",
       "      <td>0.30</td>\n",
       "    </tr>\n",
       "    <tr>\n",
       "      <th>2020-01-01 16:30:00</th>\n",
       "      <td>19.760645</td>\n",
       "      <td>32.943359</td>\n",
       "      <td>31.70625</td>\n",
       "      <td>0.30</td>\n",
       "    </tr>\n",
       "    <tr>\n",
       "      <th>2020-01-01 17:00:00</th>\n",
       "      <td>21.330469</td>\n",
       "      <td>33.033203</td>\n",
       "      <td>30.66250</td>\n",
       "      <td>0.30</td>\n",
       "    </tr>\n",
       "    <tr>\n",
       "      <th>2020-01-01 17:30:00</th>\n",
       "      <td>23.471094</td>\n",
       "      <td>35.000000</td>\n",
       "      <td>30.66250</td>\n",
       "      <td>0.30</td>\n",
       "    </tr>\n",
       "    <tr>\n",
       "      <th>2020-01-01 18:00:00</th>\n",
       "      <td>21.333984</td>\n",
       "      <td>32.203125</td>\n",
       "      <td>30.47500</td>\n",
       "      <td>0.35</td>\n",
       "    </tr>\n",
       "    <tr>\n",
       "      <th>2020-01-01 18:30:00</th>\n",
       "      <td>22.495898</td>\n",
       "      <td>31.996875</td>\n",
       "      <td>30.47500</td>\n",
       "      <td>0.35</td>\n",
       "    </tr>\n",
       "    <tr>\n",
       "      <th>2020-01-01 19:00:00</th>\n",
       "      <td>17.567090</td>\n",
       "      <td>30.134375</td>\n",
       "      <td>29.13125</td>\n",
       "      <td>0.35</td>\n",
       "    </tr>\n",
       "    <tr>\n",
       "      <th>2020-01-01 19:30:00</th>\n",
       "      <td>16.666504</td>\n",
       "      <td>29.307031</td>\n",
       "      <td>29.13125</td>\n",
       "      <td>0.30</td>\n",
       "    </tr>\n",
       "    <tr>\n",
       "      <th>2020-01-01 20:00:00</th>\n",
       "      <td>18.932910</td>\n",
       "      <td>27.510156</td>\n",
       "      <td>26.52500</td>\n",
       "      <td>0.30</td>\n",
       "    </tr>\n",
       "    <tr>\n",
       "      <th>2020-01-01 20:30:00</th>\n",
       "      <td>16.890918</td>\n",
       "      <td>28.219141</td>\n",
       "      <td>26.52500</td>\n",
       "      <td>0.30</td>\n",
       "    </tr>\n",
       "    <tr>\n",
       "      <th>2020-01-01 21:00:00</th>\n",
       "      <td>16.385352</td>\n",
       "      <td>26.383203</td>\n",
       "      <td>22.20625</td>\n",
       "      <td>0.30</td>\n",
       "    </tr>\n",
       "    <tr>\n",
       "      <th>2020-01-01 21:30:00</th>\n",
       "      <td>11.996191</td>\n",
       "      <td>24.885547</td>\n",
       "      <td>22.20625</td>\n",
       "      <td>0.30</td>\n",
       "    </tr>\n",
       "    <tr>\n",
       "      <th>2020-01-01 22:00:00</th>\n",
       "      <td>13.612305</td>\n",
       "      <td>23.282031</td>\n",
       "      <td>22.32500</td>\n",
       "      <td>0.30</td>\n",
       "    </tr>\n",
       "    <tr>\n",
       "      <th>2020-01-01 22:30:00</th>\n",
       "      <td>19.177930</td>\n",
       "      <td>22.027344</td>\n",
       "      <td>22.32500</td>\n",
       "      <td>0.30</td>\n",
       "    </tr>\n",
       "    <tr>\n",
       "      <th>2020-01-01 23:00:00</th>\n",
       "      <td>12.929785</td>\n",
       "      <td>19.410547</td>\n",
       "      <td>21.01250</td>\n",
       "      <td>0.30</td>\n",
       "    </tr>\n",
       "    <tr>\n",
       "      <th>2020-01-01 23:30:00</th>\n",
       "      <td>9.297656</td>\n",
       "      <td>18.864062</td>\n",
       "      <td>21.01250</td>\n",
       "      <td>0.30</td>\n",
       "    </tr>\n",
       "  </tbody>\n",
       "</table>\n",
       "</div>"
      ],
      "text/plain": [
       "                            NO       PM10     PM2.5    CO\n",
       "ReadingDateTime                                          \n",
       "2020-01-01 00:00:00  19.996973  56.893359  56.03750  0.40\n",
       "2020-01-01 00:30:00  27.111914  60.546875  56.03750  0.40\n",
       "2020-01-01 01:00:00  29.509375  61.082813  49.26875  0.40\n",
       "2020-01-01 01:30:00  30.434473  61.300781  49.26875  0.40\n",
       "2020-01-01 02:00:00  32.455176  56.439062  46.58750  0.40\n",
       "2020-01-01 02:30:00  23.069824  50.443750  46.58750  0.40\n",
       "2020-01-01 03:00:00  20.281543  44.059766  40.36875  0.40\n",
       "2020-01-01 03:30:00  21.913379  42.475000  40.36875  0.40\n",
       "2020-01-01 04:00:00  16.217480  39.350391  38.63750  0.40\n",
       "2020-01-01 04:30:00  17.055273  38.837109  38.63750  0.40\n",
       "2020-01-01 05:00:00  14.932520  38.804297  36.54375  0.40\n",
       "2020-01-01 05:30:00  16.630762  38.046094  36.54375  0.30\n",
       "2020-01-01 06:00:00  22.310352  34.737109  32.98750  0.30\n",
       "2020-01-01 06:30:00  19.805469  34.488672  32.98750  0.35\n",
       "2020-01-01 07:00:00  19.715723  33.086719  30.23125  0.40\n",
       "2020-01-01 07:30:00  22.535254  33.034766  30.23125  0.40\n",
       "2020-01-01 08:00:00  35.328711  34.206250  33.29375  0.40\n",
       "2020-01-01 08:30:00  36.997559  32.963281  33.29375  0.45\n",
       "2020-01-01 09:00:00  41.030469  34.375781  34.21250  0.50\n",
       "2020-01-01 09:30:00  53.954883  34.631250  34.21250  0.50\n",
       "2020-01-01 10:00:00  51.269141  34.155469  33.31250  0.55\n",
       "2020-01-01 10:30:00  51.052539  32.903906  33.31250  0.60\n",
       "2020-01-01 11:00:00  48.000195  35.913281  32.78125  0.60\n",
       "2020-01-01 11:30:00  45.440918  35.935547  32.78125  0.55\n",
       "2020-01-01 12:00:00  36.500586  36.070703  32.76250  0.40\n",
       "2020-01-01 12:30:00  25.978906  34.618359  32.76250  0.40\n",
       "2020-01-01 13:00:00  24.805078  36.510547  35.80000  0.40\n",
       "2020-01-01 13:30:00  24.355566  37.808203  35.80000  0.40\n",
       "2020-01-01 14:00:00  29.493164  37.419141  35.14375  0.40\n",
       "2020-01-01 14:30:00  21.905664  37.402344  35.14375  0.40\n",
       "2020-01-01 15:00:00  23.124219  36.575000  33.53125  0.35\n",
       "2020-01-01 15:30:00  18.323242  36.525781  33.53125  0.30\n",
       "2020-01-01 16:00:00  14.802051  31.931250  31.70625  0.30\n",
       "2020-01-01 16:30:00  19.760645  32.943359  31.70625  0.30\n",
       "2020-01-01 17:00:00  21.330469  33.033203  30.66250  0.30\n",
       "2020-01-01 17:30:00  23.471094  35.000000  30.66250  0.30\n",
       "2020-01-01 18:00:00  21.333984  32.203125  30.47500  0.35\n",
       "2020-01-01 18:30:00  22.495898  31.996875  30.47500  0.35\n",
       "2020-01-01 19:00:00  17.567090  30.134375  29.13125  0.35\n",
       "2020-01-01 19:30:00  16.666504  29.307031  29.13125  0.30\n",
       "2020-01-01 20:00:00  18.932910  27.510156  26.52500  0.30\n",
       "2020-01-01 20:30:00  16.890918  28.219141  26.52500  0.30\n",
       "2020-01-01 21:00:00  16.385352  26.383203  22.20625  0.30\n",
       "2020-01-01 21:30:00  11.996191  24.885547  22.20625  0.30\n",
       "2020-01-01 22:00:00  13.612305  23.282031  22.32500  0.30\n",
       "2020-01-01 22:30:00  19.177930  22.027344  22.32500  0.30\n",
       "2020-01-01 23:00:00  12.929785  19.410547  21.01250  0.30\n",
       "2020-01-01 23:30:00   9.297656  18.864062  21.01250  0.30"
      ]
     },
     "execution_count": 25,
     "metadata": {},
     "output_type": "execute_result"
    }
   ],
   "source": [
    "final_df.head(n=48)"
   ]
  },
  {
   "cell_type": "code",
   "execution_count": 21,
   "metadata": {},
   "outputs": [
    {
     "data": {
      "text/html": [
       "<div>\n",
       "<style scoped>\n",
       "    .dataframe tbody tr th:only-of-type {\n",
       "        vertical-align: middle;\n",
       "    }\n",
       "\n",
       "    .dataframe tbody tr th {\n",
       "        vertical-align: top;\n",
       "    }\n",
       "\n",
       "    .dataframe thead th {\n",
       "        text-align: right;\n",
       "    }\n",
       "</style>\n",
       "<table border=\"1\" class=\"dataframe\">\n",
       "  <thead>\n",
       "    <tr style=\"text-align: right;\">\n",
       "      <th></th>\n",
       "      <th>NO</th>\n",
       "      <th>PM10</th>\n",
       "      <th>PM2.5</th>\n",
       "      <th>CO</th>\n",
       "    </tr>\n",
       "    <tr>\n",
       "      <th>ReadingDateTime</th>\n",
       "      <th></th>\n",
       "      <th></th>\n",
       "      <th></th>\n",
       "      <th></th>\n",
       "    </tr>\n",
       "  </thead>\n",
       "  <tbody>\n",
       "    <tr>\n",
       "      <th>2020-12-24 21:30:00</th>\n",
       "      <td>4.326074</td>\n",
       "      <td>6.113672</td>\n",
       "      <td>5.406250</td>\n",
       "      <td>0.3</td>\n",
       "    </tr>\n",
       "    <tr>\n",
       "      <th>2020-12-24 22:00:00</th>\n",
       "      <td>5.312988</td>\n",
       "      <td>7.758203</td>\n",
       "      <td>4.834375</td>\n",
       "      <td>0.3</td>\n",
       "    </tr>\n",
       "    <tr>\n",
       "      <th>2020-12-24 22:30:00</th>\n",
       "      <td>3.999414</td>\n",
       "      <td>8.018750</td>\n",
       "      <td>4.821875</td>\n",
       "      <td>0.3</td>\n",
       "    </tr>\n",
       "    <tr>\n",
       "      <th>2020-12-24 23:00:00</th>\n",
       "      <td>2.964258</td>\n",
       "      <td>6.669141</td>\n",
       "      <td>3.643750</td>\n",
       "      <td>0.3</td>\n",
       "    </tr>\n",
       "    <tr>\n",
       "      <th>2020-12-24 23:30:00</th>\n",
       "      <td>3.538574</td>\n",
       "      <td>6.945312</td>\n",
       "      <td>3.640625</td>\n",
       "      <td>0.3</td>\n",
       "    </tr>\n",
       "  </tbody>\n",
       "</table>\n",
       "</div>"
      ],
      "text/plain": [
       "                           NO      PM10     PM2.5   CO\n",
       "ReadingDateTime                                       \n",
       "2020-12-24 21:30:00  4.326074  6.113672  5.406250  0.3\n",
       "2020-12-24 22:00:00  5.312988  7.758203  4.834375  0.3\n",
       "2020-12-24 22:30:00  3.999414  8.018750  4.821875  0.3\n",
       "2020-12-24 23:00:00  2.964258  6.669141  3.643750  0.3\n",
       "2020-12-24 23:30:00  3.538574  6.945312  3.640625  0.3"
      ]
     },
     "execution_count": 21,
     "metadata": {},
     "output_type": "execute_result"
    }
   ],
   "source": [
    "final_df.tail()"
   ]
  },
  {
   "cell_type": "code",
   "execution_count": 22,
   "metadata": {},
   "outputs": [
    {
     "data": {
      "text/plain": [
       "(17232, 4)"
      ]
     },
     "execution_count": 22,
     "metadata": {},
     "output_type": "execute_result"
    }
   ],
   "source": [
    "final_df.shape"
   ]
  },
  {
   "cell_type": "code",
   "execution_count": 141,
   "metadata": {},
   "outputs": [
    {
     "data": {
      "image/png": "[encoded data removed]",
      "text/plain": [
       "<Figure size 432x288 with 4 Axes>"
      ]
     },
     "metadata": {},
     "output_type": "display_data"
    }
   ],
   "source": [
    "# line plot for each species\n",
    "pyplot.figure()\n",
    "for i in range(len(final_df.columns)):\n",
    "    # create subplot\n",
    "    pyplot.subplot(len(final_df.columns), 1, i+1)\n",
    "    # get variable name\n",
    "    name = final_df.columns[i]\n",
    "    # plot data\n",
    "    pyplot.plot(final_df[name])\n",
    "    # set title\n",
    "    pyplot.title(name, y=0, loc= 'left')\n",
    "    # turn off ticks to remove clutter\n",
    "    pyplot.yticks([])\n",
    "    pyplot.xticks([])\n",
    "pyplot.show()"
   ]
  },
  {
   "cell_type": "code",
   "execution_count": 142,
   "metadata": {},
   "outputs": [
    {
     "data": {
      "image/png": "[encoded data removed]",
      "text/plain": [
       "<Figure size 432x288 with 4 Axes>"
      ]
     },
     "metadata": {},
     "output_type": "display_data"
    }
   ],
   "source": [
    "# Gaussin ditribution for each species\n",
    "pyplot.figure()\n",
    "for i in range(len(final_df.columns)):\n",
    "    # create subplot\n",
    "    pyplot.subplot(len(final_df.columns), 1, i+1)\n",
    "    # get variable name\n",
    "    name = final_df.columns[i]\n",
    "    # create histogram\n",
    "    final_df[name].hist(bins=100)\n",
    "    # set title\n",
    "    pyplot.title(name, y=0, loc= 'right' )\n",
    "    # turn off ticks to remove clutter\n",
    "    pyplot.yticks([])\n",
    "    pyplot.xticks([])\n",
    "pyplot.show()"
   ]
  },
  {
   "cell_type": "markdown",
   "metadata": {},
   "source": [
    "## LSTM Models "
   ]
  },
  {
   "cell_type": "code",
   "execution_count": 32,
   "metadata": {},
   "outputs": [],
   "source": [
    "# univariate multi-step lstm for the power usage dataset\n",
    "from math import sqrt\n",
    "from numpy import split\n",
    "from numpy import array\n",
    "from sklearn.metrics import mean_squared_error\n",
    "from keras.models import Sequential\n",
    "from keras.layers import Dense\n",
    "from keras.layers import LSTM"
   ]
  },
  {
   "cell_type": "code",
   "execution_count": 143,
   "metadata": {},
   "outputs": [],
   "source": [
    "# split a multivariate dataset into train/test sets\n",
    "def split_dataset(data, lag=2):\n",
    "    # split into 11 month, 23 days and 1 day for train, test and validation set correspondingly\n",
    "    train, test, validate = data[:-1152], data[-1152:-48], data[-48:]\n",
    "#     print( \"Train shape: {}, Test shape: {} and Validate shape: {}\".format( train.shape, test.shape, validate.shape ) )\n",
    "    # restructure into windows of data\n",
    "    train = array(split(train, len(train)/lag))\n",
    "    test = array(split(test, len(test)/lag))\n",
    "    validate = array(split(validate, len(validate)/lag))\n",
    "    print( \"Train shape: {}, Test shape: {} and Validate shape: {}\".format( train.shape, test.shape, validate.shape ) )\n",
    "    return train, test, validate"
   ]
  },
  {
   "cell_type": "code",
   "execution_count": 56,
   "metadata": {},
   "outputs": [
    {
     "name": "stdout",
     "output_type": "stream",
     "text": [
      "Train shape: (8040, 2, 4), Test shape: (552, 2, 4) and Validate shape: (24, 2, 4)\n"
     ]
    }
   ],
   "source": [
    "train, test, validate = split_dataset(final_df.values)"
   ]
  },
  {
   "cell_type": "code",
   "execution_count": 53,
   "metadata": {},
   "outputs": [],
   "source": [
    "# convert history into inputs and outputs\n",
    "def to_supervised(train, n_input, n_out=7):\n",
    "    # flatten data\n",
    "    data = train.reshape((train.shape[0]*train.shape[1], train.shape[2]))\n",
    "    X, y = list(), list()\n",
    "    in_start = 0\n",
    "    # step over the entire history one time step at a time\n",
    "    for _ in range(len(data)):\n",
    "        # define the end of the input sequence\n",
    "        in_end = in_start + n_input\n",
    "        out_end = in_end + n_out\n",
    "        # ensure we have enough data for this instance\n",
    "        if out_end <= len(data):\n",
    "            X.append(data[in_start:in_end, :])\n",
    "            y.append(data[in_end, :])\n",
    "            # move along one time step\n",
    "            in_start += 1\n",
    "    return array(X), array(y)"
   ]
  },
  {
   "cell_type": "code",
   "execution_count": 120,
   "metadata": {},
   "outputs": [
    {
     "data": {
      "text/plain": [
       "<tensorflow.python.keras.callbacks.History at 0x7f0d740c97d0>"
      ]
     },
     "execution_count": 120,
     "metadata": {},
     "output_type": "execute_result"
    }
   ],
   "source": [
    "n_input = 2\n",
    "# prepare data\n",
    "train_x, train_y = to_supervised(train, n_input)\n",
    "# define parameters\n",
    "verbose, epochs, batch_size = 0, 50, 16\n",
    "n_timesteps, n_features, n_outputs = train_x.shape[1], train_x.shape[2], train_y.shape[1]\n",
    "# define model\n",
    "model = Sequential()\n",
    "model.add(LSTM(200, activation= 'relu' , input_shape=(n_timesteps, n_features)))\n",
    "model.add(Dense(100, activation= 'relu' ))\n",
    "model.add(Dense(n_outputs))\n",
    "model.compile(loss= 'mse' , optimizer= 'adam' )\n",
    "# fit network\n",
    "model.fit(train_x, train_y, validation_data=(test_x, test_y), epochs=epochs, batch_size=batch_size, verbose=verbose)"
   ]
  },
  {
   "cell_type": "code",
   "execution_count": 67,
   "metadata": {},
   "outputs": [],
   "source": [
    "def calculate_rmse( test_y, prediction ):\n",
    "    scores = list()\n",
    "    for i in range(test_y.shape[1]):\n",
    "        # calculate mse\n",
    "        mse = mean_squared_error(test_y[:, i], prediction[:, i])\n",
    "        # calculate rmse\n",
    "        rmse = sqrt(mse)\n",
    "        print( i, rmse)"
   ]
  },
  {
   "cell_type": "code",
   "execution_count": 68,
   "metadata": {},
   "outputs": [
    {
     "name": "stdout",
     "output_type": "stream",
     "text": [
      "0 3.4205465869233986\n",
      "1 3.6920626495690927\n",
      "2 1.7310636954885286\n",
      "3 0.12008221523621751\n"
     ]
    }
   ],
   "source": [
    "calculate_rmse( test_y, prediction )"
   ]
  },
  {
   "cell_type": "code",
   "execution_count": 66,
   "metadata": {},
   "outputs": [],
   "source": [
    "from keras.layers import RepeatVector\n",
    "from keras.layers import TimeDistributed"
   ]
  },
  {
   "cell_type": "code",
   "execution_count": 121,
   "metadata": {},
   "outputs": [
    {
     "data": {
      "text/plain": [
       "<tensorflow.python.keras.callbacks.History at 0x7f0d6c33e490>"
      ]
     },
     "execution_count": 121,
     "metadata": {},
     "output_type": "execute_result"
    }
   ],
   "source": [
    "model1 = Sequential()\n",
    "model1.add(LSTM(200, activation= 'relu' , input_shape=(n_timesteps, n_features)))\n",
    "model1.add(RepeatVector(n_outputs))\n",
    "model1.add(LSTM(200, activation= 'relu' , return_sequences=True))\n",
    "model1.add(TimeDistributed(Dense(100, activation= 'relu' )))\n",
    "model1.add(TimeDistributed(Dense(1)))\n",
    "model1.compile(loss= 'mse' , optimizer= 'adam' )\n",
    "# fit network\n",
    "model1.fit(train_x, train_y, validation_data=(test_x, test_y), epochs=epochs, batch_size=batch_size, verbose=verbose)"
   ]
  },
  {
   "cell_type": "code",
   "execution_count": 104,
   "metadata": {},
   "outputs": [],
   "source": [
    "validate_x, validate_y = to_supervised(validate, n_input)"
   ]
  },
  {
   "cell_type": "code",
   "execution_count": 122,
   "metadata": {},
   "outputs": [],
   "source": [
    "forecast1 = model1.predict( validate_x, verbose=verbose)"
   ]
  },
  {
   "cell_type": "code",
   "execution_count": 139,
   "metadata": {},
   "outputs": [
    {
     "name": "stdout",
     "output_type": "stream",
     "text": [
      "Stacked LSTM RMSE score on validation data for 24 hour. Where 0: NO, 1: PM10, 2: PM2.5 and 3: CO;\n",
      "0 1.1078063843257766\n",
      "1 1.1931733806073501\n",
      "2 0.8739955088714241\n",
      "3 0.07214389090571309\n"
     ]
    }
   ],
   "source": [
    "#Stacked LSTM RMSE score on validation data for 24 hour\n",
    "print('Stacked LSTM RMSE score on validation data for 24 hour. Where 0: NO, 1: PM10, 2: PM2.5 and 3: CO;')\n",
    "calculate_rmse( validate_y, forecast1 )"
   ]
  },
  {
   "cell_type": "code",
   "execution_count": 126,
   "metadata": {},
   "outputs": [],
   "source": [
    "forecast2 = model.predict( validate_x, verbose=verbose)"
   ]
  },
  {
   "cell_type": "code",
   "execution_count": 140,
   "metadata": {},
   "outputs": [
    {
     "name": "stdout",
     "output_type": "stream",
     "text": [
      "CNN-LSTM RMSE score on validation data for 24 hour. Where 0: NO, 1: PM10, 2: PM2.5 and 3: CO;\n",
      "0 1.6096027313244903\n",
      "1 1.2094592037023435\n",
      "2 1.0736656841780323\n",
      "3 0.05239547440492399\n"
     ]
    }
   ],
   "source": [
    "#CNN-LSTM RMSE score on validation data for 24 hour\n",
    "print('CNN-LSTM RMSE score on validation data for 24 hour. Where 0: NO, 1: PM10, 2: PM2.5 and 3: CO;')\n",
    "calculate_rmse( validate_y, forecast2 )"
   ]
  },
  {
   "cell_type": "code",
   "execution_count": 134,
   "metadata": {},
   "outputs": [],
   "source": [
    "def forecast_graph( actual, predicted ):\n",
    "    pyplot.plot(actual[:,3], label='CO')\n",
    "    pyplot.plot(predicted[:,3], label='CO`')\n",
    "    pyplot.plot(actual[:,0], label='NO')\n",
    "    pyplot.plot(predicted[:,0], label='NO`')\n",
    "    pyplot.plot(actual[:,1], label='PM10')\n",
    "    pyplot.plot(predicted[:,1], label='PM10`')\n",
    "    pyplot.plot(actual[:,2], label='PM2.5')\n",
    "    pyplot.plot(predicted[:,2], label='PM2.5`')\n",
    "    pyplot.legend()\n",
    "    pyplot.show()"
   ]
  },
  {
   "cell_type": "code",
   "execution_count": 144,
   "metadata": {},
   "outputs": [
    {
     "data": {
      "image/png": "[encoded data removed]",
      "text/plain": [
       "<Figure size 432x288 with 1 Axes>"
      ]
     },
     "metadata": {
      "needs_background": "light"
     },
     "output_type": "display_data"
    },
    {
     "name": "stdout",
     "output_type": "stream",
     "text": [
      "CNN-LSTM forecast acutal vs predicted\n"
     ]
    }
   ],
   "source": [
    "forecast_graph( validate_y, forecast2 )\n",
    "print('CNN-LSTM forecast acutal vs predicted')"
   ]
  },
  {
   "cell_type": "code",
   "execution_count": 145,
   "metadata": {},
   "outputs": [
    {
     "data": {
      "image/png": "[encoded data removed]",
      "text/plain": [
       "<Figure size 432x288 with 1 Axes>"
      ]
     },
     "metadata": {
      "needs_background": "light"
     },
     "output_type": "display_data"
    },
    {
     "name": "stdout",
     "output_type": "stream",
     "text": [
      "Stacked LSTM forecast acutal vs predicted\n"
     ]
    }
   ],
   "source": [
    "forecast_graph( validate_y, forecast1 )\n",
    "print('Stacked LSTM forecast acutal vs predicted')"
   ]
  },
  {
   "cell_type": "code",
   "execution_count": null,
   "metadata": {},
   "outputs": [],
   "source": []
  }
 ],
 "metadata": {
  "kernelspec": {
   "display_name": "Python 3",
   "language": "python",
   "name": "python3"
  },
  "language_info": {
   "codemirror_mode": {
    "name": "ipython",
    "version": 3
   },
   "file_extension": ".py",
   "mimetype": "text/x-python",
   "name": "python",
   "nbconvert_exporter": "python",
   "pygments_lexer": "ipython3",
   "version": "3.7.4"
  }
 },
 "nbformat": 4,
 "nbformat_minor": 4
}
