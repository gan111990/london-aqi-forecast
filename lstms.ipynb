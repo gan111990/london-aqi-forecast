{
 "cells": [
  {
   "cell_type": "markdown",
   "metadata": {},
   "source": [
    "### Load data of different areas of Central London"
   ]
  },
  {
   "cell_type": "code",
   "execution_count": 1,
   "metadata": {},
   "outputs": [],
   "source": [
    "import data"
   ]
  },
  {
   "cell_type": "code",
   "execution_count": 2,
   "metadata": {},
   "outputs": [],
   "source": [
    "# All sites list for Central London\n",
    "site_ids = ['BL0', 'CT3', 'HG1', 'IS2', 'KC1', 'LB4', 'SK8', 'TH4', 'WA9', 'WM0']"
   ]
  },
  {
   "cell_type": "code",
   "execution_count": 3,
   "metadata": {},
   "outputs": [
    {
     "name": "stdout",
     "output_type": "stream",
     "text": [
      "Data successfuly downloaded for Site ID:BL0 for period:01-Jan-2019,25-Dec-2020.\n",
      "Data successfuly downloaded for Site ID:CT3 for period:01-Jan-2019,25-Dec-2020.\n",
      "Data successfuly downloaded for Site ID:HG1 for period:01-Jan-2019,25-Dec-2020.\n",
      "Data successfuly downloaded for Site ID:IS2 for period:01-Jan-2019,25-Dec-2020.\n",
      "Data successfuly downloaded for Site ID:KC1 for period:01-Jan-2019,25-Dec-2020.\n",
      "Data successfuly downloaded for Site ID:LB4 for period:01-Jan-2019,25-Dec-2020.\n",
      "Data successfuly downloaded for Site ID:SK8 for period:01-Jan-2019,25-Dec-2020.\n",
      "Data successfuly downloaded for Site ID:TH4 for period:01-Jan-2019,25-Dec-2020.\n",
      "Data successfuly downloaded for Site ID:WA9 for period:01-Jan-2019,25-Dec-2020.\n",
      "Data successfuly downloaded for Site ID:WM0 for period:01-Jan-2019,25-Dec-2020.\n"
     ]
    }
   ],
   "source": [
    "# Download and store all sites data\n",
    "start_date, end_date = data.get_data_start_and_end_date('train')#Download for training model\n",
    "for site in site_ids:\n",
    "    data.download_site_data( site, start_date, end_date )"
   ]
  },
  {
   "cell_type": "code",
   "execution_count": 2,
   "metadata": {},
   "outputs": [],
   "source": [
    "# Species list\n",
    "species = ['CO', 'NO', 'PM10', 'PM2.5']"
   ]
  },
  {
   "cell_type": "code",
   "execution_count": 3,
   "metadata": {},
   "outputs": [
    {
     "name": "stderr",
     "output_type": "stream",
     "text": [
      "/media/ravi/Data1/Machine-Learning-Projects/london-aqi-forecast/data.py:54: SettingWithCopyWarning: \n",
      "A value is trying to be set on a copy of a slice from a DataFrame\n",
      "\n",
      "See the caveats in the documentation: https://pandas.pydata.org/pandas-docs/stable/user_guide/indexing.html#returning-a-view-versus-a-copy\n",
      "  df.Value[row] = df.Value[row - 1]\n",
      "/media/ravi/Data1/Machine-Learning-Projects/london-aqi-forecast/data.py:72: SettingWithCopyWarning: \n",
      "A value is trying to be set on a copy of a slice from a DataFrame\n",
      "\n",
      "See the caveats in the documentation: https://pandas.pydata.org/pandas-docs/stable/user_guide/indexing.html#returning-a-view-versus-a-copy\n",
      "  df_specie = fill_missing( df_specie )\n",
      "/media/ravi/Data1/Machine-Learning-Projects/london-aqi-forecast/data.py:52: SettingWithCopyWarning: \n",
      "A value is trying to be set on a copy of a slice from a DataFrame\n",
      "\n",
      "See the caveats in the documentation: https://pandas.pydata.org/pandas-docs/stable/user_guide/indexing.html#returning-a-view-versus-a-copy\n",
      "  df.Value[row] = 0\n"
     ]
    }
   ],
   "source": [
    "final_df = data.prepare_dataset( './data/train/' )"
   ]
  },
  {
   "cell_type": "code",
   "execution_count": 4,
   "metadata": {},
   "outputs": [
    {
     "data": {
      "text/plain": [
       "(34752, 4)"
      ]
     },
     "execution_count": 4,
     "metadata": {},
     "output_type": "execute_result"
    }
   ],
   "source": [
    "final_df.shape"
   ]
  },
  {
   "cell_type": "code",
   "execution_count": 7,
   "metadata": {},
   "outputs": [
    {
     "data": {
      "text/html": [
       "<div>\n",
       "<style scoped>\n",
       "    .dataframe tbody tr th:only-of-type {\n",
       "        vertical-align: middle;\n",
       "    }\n",
       "\n",
       "    .dataframe tbody tr th {\n",
       "        vertical-align: top;\n",
       "    }\n",
       "\n",
       "    .dataframe thead th {\n",
       "        text-align: right;\n",
       "    }\n",
       "</style>\n",
       "<table border=\"1\" class=\"dataframe\">\n",
       "  <thead>\n",
       "    <tr style=\"text-align: right;\">\n",
       "      <th></th>\n",
       "      <th>NO</th>\n",
       "      <th>PM10</th>\n",
       "      <th>PM2.5</th>\n",
       "      <th>CO</th>\n",
       "    </tr>\n",
       "    <tr>\n",
       "      <th>ReadingDateTime</th>\n",
       "      <th></th>\n",
       "      <th></th>\n",
       "      <th></th>\n",
       "      <th></th>\n",
       "    </tr>\n",
       "  </thead>\n",
       "  <tbody>\n",
       "    <tr>\n",
       "      <th>2019-01-01 00:00:00</th>\n",
       "      <td>2.394922</td>\n",
       "      <td>3.415625</td>\n",
       "      <td>7.81875</td>\n",
       "      <td>0.1</td>\n",
       "    </tr>\n",
       "    <tr>\n",
       "      <th>2019-01-01 00:30:00</th>\n",
       "      <td>2.891797</td>\n",
       "      <td>3.415625</td>\n",
       "      <td>7.81875</td>\n",
       "      <td>0.1</td>\n",
       "    </tr>\n",
       "    <tr>\n",
       "      <th>2019-01-01 01:00:00</th>\n",
       "      <td>2.965430</td>\n",
       "      <td>2.787500</td>\n",
       "      <td>5.55000</td>\n",
       "      <td>0.1</td>\n",
       "    </tr>\n",
       "    <tr>\n",
       "      <th>2019-01-01 01:30:00</th>\n",
       "      <td>2.687695</td>\n",
       "      <td>2.787500</td>\n",
       "      <td>5.55000</td>\n",
       "      <td>0.1</td>\n",
       "    </tr>\n",
       "    <tr>\n",
       "      <th>2019-01-01 02:00:00</th>\n",
       "      <td>2.939844</td>\n",
       "      <td>2.031250</td>\n",
       "      <td>2.78750</td>\n",
       "      <td>0.1</td>\n",
       "    </tr>\n",
       "    <tr>\n",
       "      <th>2019-01-01 02:30:00</th>\n",
       "      <td>2.077246</td>\n",
       "      <td>2.031250</td>\n",
       "      <td>2.78750</td>\n",
       "      <td>0.1</td>\n",
       "    </tr>\n",
       "    <tr>\n",
       "      <th>2019-01-01 03:00:00</th>\n",
       "      <td>2.071484</td>\n",
       "      <td>2.456250</td>\n",
       "      <td>2.28750</td>\n",
       "      <td>0.1</td>\n",
       "    </tr>\n",
       "    <tr>\n",
       "      <th>2019-01-01 03:30:00</th>\n",
       "      <td>2.095410</td>\n",
       "      <td>2.456250</td>\n",
       "      <td>2.28750</td>\n",
       "      <td>0.1</td>\n",
       "    </tr>\n",
       "    <tr>\n",
       "      <th>2019-01-01 04:00:00</th>\n",
       "      <td>2.502832</td>\n",
       "      <td>2.081250</td>\n",
       "      <td>2.01875</td>\n",
       "      <td>0.1</td>\n",
       "    </tr>\n",
       "    <tr>\n",
       "      <th>2019-01-01 04:30:00</th>\n",
       "      <td>2.254590</td>\n",
       "      <td>2.081250</td>\n",
       "      <td>2.01875</td>\n",
       "      <td>0.1</td>\n",
       "    </tr>\n",
       "    <tr>\n",
       "      <th>2019-01-01 05:00:00</th>\n",
       "      <td>2.978809</td>\n",
       "      <td>1.893750</td>\n",
       "      <td>2.61250</td>\n",
       "      <td>0.1</td>\n",
       "    </tr>\n",
       "    <tr>\n",
       "      <th>2019-01-01 05:30:00</th>\n",
       "      <td>3.431641</td>\n",
       "      <td>1.893750</td>\n",
       "      <td>2.61250</td>\n",
       "      <td>0.1</td>\n",
       "    </tr>\n",
       "    <tr>\n",
       "      <th>2019-01-01 06:00:00</th>\n",
       "      <td>3.256152</td>\n",
       "      <td>2.621875</td>\n",
       "      <td>2.36875</td>\n",
       "      <td>0.1</td>\n",
       "    </tr>\n",
       "    <tr>\n",
       "      <th>2019-01-01 06:30:00</th>\n",
       "      <td>3.411328</td>\n",
       "      <td>2.621875</td>\n",
       "      <td>2.36875</td>\n",
       "      <td>0.1</td>\n",
       "    </tr>\n",
       "    <tr>\n",
       "      <th>2019-01-01 07:00:00</th>\n",
       "      <td>2.704102</td>\n",
       "      <td>2.034375</td>\n",
       "      <td>1.84375</td>\n",
       "      <td>0.1</td>\n",
       "    </tr>\n",
       "    <tr>\n",
       "      <th>2019-01-01 07:30:00</th>\n",
       "      <td>3.933887</td>\n",
       "      <td>2.034375</td>\n",
       "      <td>1.84375</td>\n",
       "      <td>0.1</td>\n",
       "    </tr>\n",
       "    <tr>\n",
       "      <th>2019-01-01 08:00:00</th>\n",
       "      <td>3.446191</td>\n",
       "      <td>2.071875</td>\n",
       "      <td>3.25625</td>\n",
       "      <td>0.1</td>\n",
       "    </tr>\n",
       "    <tr>\n",
       "      <th>2019-01-01 08:30:00</th>\n",
       "      <td>4.254883</td>\n",
       "      <td>2.071875</td>\n",
       "      <td>3.25625</td>\n",
       "      <td>0.1</td>\n",
       "    </tr>\n",
       "    <tr>\n",
       "      <th>2019-01-01 09:00:00</th>\n",
       "      <td>4.613379</td>\n",
       "      <td>2.193750</td>\n",
       "      <td>3.25000</td>\n",
       "      <td>0.1</td>\n",
       "    </tr>\n",
       "    <tr>\n",
       "      <th>2019-01-01 09:30:00</th>\n",
       "      <td>3.157129</td>\n",
       "      <td>2.193750</td>\n",
       "      <td>3.25000</td>\n",
       "      <td>0.1</td>\n",
       "    </tr>\n",
       "    <tr>\n",
       "      <th>2019-01-01 10:00:00</th>\n",
       "      <td>6.575684</td>\n",
       "      <td>2.400000</td>\n",
       "      <td>2.33750</td>\n",
       "      <td>0.1</td>\n",
       "    </tr>\n",
       "    <tr>\n",
       "      <th>2019-01-01 10:30:00</th>\n",
       "      <td>5.402832</td>\n",
       "      <td>2.400000</td>\n",
       "      <td>2.33750</td>\n",
       "      <td>0.1</td>\n",
       "    </tr>\n",
       "    <tr>\n",
       "      <th>2019-01-01 11:00:00</th>\n",
       "      <td>4.673535</td>\n",
       "      <td>1.659375</td>\n",
       "      <td>2.54375</td>\n",
       "      <td>0.2</td>\n",
       "    </tr>\n",
       "    <tr>\n",
       "      <th>2019-01-01 11:30:00</th>\n",
       "      <td>4.088086</td>\n",
       "      <td>1.659375</td>\n",
       "      <td>2.54375</td>\n",
       "      <td>0.2</td>\n",
       "    </tr>\n",
       "    <tr>\n",
       "      <th>2019-01-01 12:00:00</th>\n",
       "      <td>4.129883</td>\n",
       "      <td>1.650000</td>\n",
       "      <td>3.46875</td>\n",
       "      <td>0.1</td>\n",
       "    </tr>\n",
       "    <tr>\n",
       "      <th>2019-01-01 12:30:00</th>\n",
       "      <td>5.071973</td>\n",
       "      <td>1.650000</td>\n",
       "      <td>3.46875</td>\n",
       "      <td>0.1</td>\n",
       "    </tr>\n",
       "    <tr>\n",
       "      <th>2019-01-01 13:00:00</th>\n",
       "      <td>5.084180</td>\n",
       "      <td>2.343750</td>\n",
       "      <td>2.46875</td>\n",
       "      <td>0.1</td>\n",
       "    </tr>\n",
       "    <tr>\n",
       "      <th>2019-01-01 13:30:00</th>\n",
       "      <td>4.526270</td>\n",
       "      <td>2.343750</td>\n",
       "      <td>2.46875</td>\n",
       "      <td>0.1</td>\n",
       "    </tr>\n",
       "    <tr>\n",
       "      <th>2019-01-01 14:00:00</th>\n",
       "      <td>4.657324</td>\n",
       "      <td>1.759375</td>\n",
       "      <td>2.36250</td>\n",
       "      <td>0.1</td>\n",
       "    </tr>\n",
       "    <tr>\n",
       "      <th>2019-01-01 14:30:00</th>\n",
       "      <td>4.887207</td>\n",
       "      <td>1.759375</td>\n",
       "      <td>2.36250</td>\n",
       "      <td>0.1</td>\n",
       "    </tr>\n",
       "    <tr>\n",
       "      <th>2019-01-01 15:00:00</th>\n",
       "      <td>5.385938</td>\n",
       "      <td>2.231250</td>\n",
       "      <td>2.29375</td>\n",
       "      <td>0.2</td>\n",
       "    </tr>\n",
       "    <tr>\n",
       "      <th>2019-01-01 15:30:00</th>\n",
       "      <td>7.306543</td>\n",
       "      <td>2.231250</td>\n",
       "      <td>2.29375</td>\n",
       "      <td>0.2</td>\n",
       "    </tr>\n",
       "    <tr>\n",
       "      <th>2019-01-01 16:00:00</th>\n",
       "      <td>6.150391</td>\n",
       "      <td>3.362500</td>\n",
       "      <td>2.75000</td>\n",
       "      <td>0.2</td>\n",
       "    </tr>\n",
       "    <tr>\n",
       "      <th>2019-01-01 16:30:00</th>\n",
       "      <td>3.465430</td>\n",
       "      <td>3.362500</td>\n",
       "      <td>2.75000</td>\n",
       "      <td>0.2</td>\n",
       "    </tr>\n",
       "    <tr>\n",
       "      <th>2019-01-01 17:00:00</th>\n",
       "      <td>4.784570</td>\n",
       "      <td>2.628125</td>\n",
       "      <td>3.81875</td>\n",
       "      <td>0.2</td>\n",
       "    </tr>\n",
       "    <tr>\n",
       "      <th>2019-01-01 17:30:00</th>\n",
       "      <td>4.876660</td>\n",
       "      <td>2.628125</td>\n",
       "      <td>3.81875</td>\n",
       "      <td>0.2</td>\n",
       "    </tr>\n",
       "    <tr>\n",
       "      <th>2019-01-01 18:00:00</th>\n",
       "      <td>3.714648</td>\n",
       "      <td>2.293750</td>\n",
       "      <td>3.21875</td>\n",
       "      <td>0.2</td>\n",
       "    </tr>\n",
       "    <tr>\n",
       "      <th>2019-01-01 18:30:00</th>\n",
       "      <td>4.088867</td>\n",
       "      <td>2.293750</td>\n",
       "      <td>3.21875</td>\n",
       "      <td>0.2</td>\n",
       "    </tr>\n",
       "    <tr>\n",
       "      <th>2019-01-01 19:00:00</th>\n",
       "      <td>3.414844</td>\n",
       "      <td>3.018750</td>\n",
       "      <td>2.91250</td>\n",
       "      <td>0.2</td>\n",
       "    </tr>\n",
       "    <tr>\n",
       "      <th>2019-01-01 19:30:00</th>\n",
       "      <td>2.652051</td>\n",
       "      <td>3.018750</td>\n",
       "      <td>2.91250</td>\n",
       "      <td>0.2</td>\n",
       "    </tr>\n",
       "    <tr>\n",
       "      <th>2019-01-01 20:00:00</th>\n",
       "      <td>2.865332</td>\n",
       "      <td>2.768750</td>\n",
       "      <td>2.06875</td>\n",
       "      <td>0.1</td>\n",
       "    </tr>\n",
       "    <tr>\n",
       "      <th>2019-01-01 20:30:00</th>\n",
       "      <td>2.169141</td>\n",
       "      <td>2.768750</td>\n",
       "      <td>2.06875</td>\n",
       "      <td>0.1</td>\n",
       "    </tr>\n",
       "    <tr>\n",
       "      <th>2019-01-01 21:00:00</th>\n",
       "      <td>2.722852</td>\n",
       "      <td>2.078125</td>\n",
       "      <td>3.37500</td>\n",
       "      <td>0.1</td>\n",
       "    </tr>\n",
       "    <tr>\n",
       "      <th>2019-01-01 21:30:00</th>\n",
       "      <td>2.020117</td>\n",
       "      <td>2.078125</td>\n",
       "      <td>3.37500</td>\n",
       "      <td>0.1</td>\n",
       "    </tr>\n",
       "    <tr>\n",
       "      <th>2019-01-01 22:00:00</th>\n",
       "      <td>3.328125</td>\n",
       "      <td>2.518750</td>\n",
       "      <td>2.60000</td>\n",
       "      <td>0.1</td>\n",
       "    </tr>\n",
       "    <tr>\n",
       "      <th>2019-01-01 22:30:00</th>\n",
       "      <td>2.193750</td>\n",
       "      <td>2.518750</td>\n",
       "      <td>2.60000</td>\n",
       "      <td>0.1</td>\n",
       "    </tr>\n",
       "    <tr>\n",
       "      <th>2019-01-01 23:00:00</th>\n",
       "      <td>2.121777</td>\n",
       "      <td>1.806250</td>\n",
       "      <td>1.90625</td>\n",
       "      <td>0.1</td>\n",
       "    </tr>\n",
       "    <tr>\n",
       "      <th>2019-01-01 23:30:00</th>\n",
       "      <td>2.056152</td>\n",
       "      <td>1.806250</td>\n",
       "      <td>1.90625</td>\n",
       "      <td>0.1</td>\n",
       "    </tr>\n",
       "  </tbody>\n",
       "</table>\n",
       "</div>"
      ],
      "text/plain": [
       "                           NO      PM10    PM2.5   CO\n",
       "ReadingDateTime                                      \n",
       "2019-01-01 00:00:00  2.394922  3.415625  7.81875  0.1\n",
       "2019-01-01 00:30:00  2.891797  3.415625  7.81875  0.1\n",
       "2019-01-01 01:00:00  2.965430  2.787500  5.55000  0.1\n",
       "2019-01-01 01:30:00  2.687695  2.787500  5.55000  0.1\n",
       "2019-01-01 02:00:00  2.939844  2.031250  2.78750  0.1\n",
       "2019-01-01 02:30:00  2.077246  2.031250  2.78750  0.1\n",
       "2019-01-01 03:00:00  2.071484  2.456250  2.28750  0.1\n",
       "2019-01-01 03:30:00  2.095410  2.456250  2.28750  0.1\n",
       "2019-01-01 04:00:00  2.502832  2.081250  2.01875  0.1\n",
       "2019-01-01 04:30:00  2.254590  2.081250  2.01875  0.1\n",
       "2019-01-01 05:00:00  2.978809  1.893750  2.61250  0.1\n",
       "2019-01-01 05:30:00  3.431641  1.893750  2.61250  0.1\n",
       "2019-01-01 06:00:00  3.256152  2.621875  2.36875  0.1\n",
       "2019-01-01 06:30:00  3.411328  2.621875  2.36875  0.1\n",
       "2019-01-01 07:00:00  2.704102  2.034375  1.84375  0.1\n",
       "2019-01-01 07:30:00  3.933887  2.034375  1.84375  0.1\n",
       "2019-01-01 08:00:00  3.446191  2.071875  3.25625  0.1\n",
       "2019-01-01 08:30:00  4.254883  2.071875  3.25625  0.1\n",
       "2019-01-01 09:00:00  4.613379  2.193750  3.25000  0.1\n",
       "2019-01-01 09:30:00  3.157129  2.193750  3.25000  0.1\n",
       "2019-01-01 10:00:00  6.575684  2.400000  2.33750  0.1\n",
       "2019-01-01 10:30:00  5.402832  2.400000  2.33750  0.1\n",
       "2019-01-01 11:00:00  4.673535  1.659375  2.54375  0.2\n",
       "2019-01-01 11:30:00  4.088086  1.659375  2.54375  0.2\n",
       "2019-01-01 12:00:00  4.129883  1.650000  3.46875  0.1\n",
       "2019-01-01 12:30:00  5.071973  1.650000  3.46875  0.1\n",
       "2019-01-01 13:00:00  5.084180  2.343750  2.46875  0.1\n",
       "2019-01-01 13:30:00  4.526270  2.343750  2.46875  0.1\n",
       "2019-01-01 14:00:00  4.657324  1.759375  2.36250  0.1\n",
       "2019-01-01 14:30:00  4.887207  1.759375  2.36250  0.1\n",
       "2019-01-01 15:00:00  5.385938  2.231250  2.29375  0.2\n",
       "2019-01-01 15:30:00  7.306543  2.231250  2.29375  0.2\n",
       "2019-01-01 16:00:00  6.150391  3.362500  2.75000  0.2\n",
       "2019-01-01 16:30:00  3.465430  3.362500  2.75000  0.2\n",
       "2019-01-01 17:00:00  4.784570  2.628125  3.81875  0.2\n",
       "2019-01-01 17:30:00  4.876660  2.628125  3.81875  0.2\n",
       "2019-01-01 18:00:00  3.714648  2.293750  3.21875  0.2\n",
       "2019-01-01 18:30:00  4.088867  2.293750  3.21875  0.2\n",
       "2019-01-01 19:00:00  3.414844  3.018750  2.91250  0.2\n",
       "2019-01-01 19:30:00  2.652051  3.018750  2.91250  0.2\n",
       "2019-01-01 20:00:00  2.865332  2.768750  2.06875  0.1\n",
       "2019-01-01 20:30:00  2.169141  2.768750  2.06875  0.1\n",
       "2019-01-01 21:00:00  2.722852  2.078125  3.37500  0.1\n",
       "2019-01-01 21:30:00  2.020117  2.078125  3.37500  0.1\n",
       "2019-01-01 22:00:00  3.328125  2.518750  2.60000  0.1\n",
       "2019-01-01 22:30:00  2.193750  2.518750  2.60000  0.1\n",
       "2019-01-01 23:00:00  2.121777  1.806250  1.90625  0.1\n",
       "2019-01-01 23:30:00  2.056152  1.806250  1.90625  0.1"
      ]
     },
     "execution_count": 7,
     "metadata": {},
     "output_type": "execute_result"
    }
   ],
   "source": [
    "final_df.head(n=48)"
   ]
  },
  {
   "cell_type": "code",
   "execution_count": 24,
   "metadata": {},
   "outputs": [
    {
     "data": {
      "text/html": [
       "<div>\n",
       "<style scoped>\n",
       "    .dataframe tbody tr th:only-of-type {\n",
       "        vertical-align: middle;\n",
       "    }\n",
       "\n",
       "    .dataframe tbody tr th {\n",
       "        vertical-align: top;\n",
       "    }\n",
       "\n",
       "    .dataframe thead th {\n",
       "        text-align: right;\n",
       "    }\n",
       "</style>\n",
       "<table border=\"1\" class=\"dataframe\">\n",
       "  <thead>\n",
       "    <tr style=\"text-align: right;\">\n",
       "      <th></th>\n",
       "      <th>NO</th>\n",
       "      <th>PM10</th>\n",
       "      <th>PM2.5</th>\n",
       "      <th>CO</th>\n",
       "    </tr>\n",
       "    <tr>\n",
       "      <th>ReadingDateTime</th>\n",
       "      <th></th>\n",
       "      <th></th>\n",
       "      <th></th>\n",
       "      <th></th>\n",
       "    </tr>\n",
       "  </thead>\n",
       "  <tbody>\n",
       "    <tr>\n",
       "      <th>2020-12-24 21:30:00</th>\n",
       "      <td>7.802051</td>\n",
       "      <td>9.153125</td>\n",
       "      <td>6.59375</td>\n",
       "      <td>0.3</td>\n",
       "    </tr>\n",
       "    <tr>\n",
       "      <th>2020-12-24 22:00:00</th>\n",
       "      <td>8.686230</td>\n",
       "      <td>8.993750</td>\n",
       "      <td>6.52500</td>\n",
       "      <td>0.3</td>\n",
       "    </tr>\n",
       "    <tr>\n",
       "      <th>2020-12-24 22:30:00</th>\n",
       "      <td>6.012500</td>\n",
       "      <td>9.343750</td>\n",
       "      <td>6.42500</td>\n",
       "      <td>0.3</td>\n",
       "    </tr>\n",
       "    <tr>\n",
       "      <th>2020-12-24 23:00:00</th>\n",
       "      <td>6.400293</td>\n",
       "      <td>9.450000</td>\n",
       "      <td>4.74375</td>\n",
       "      <td>0.3</td>\n",
       "    </tr>\n",
       "    <tr>\n",
       "      <th>2020-12-24 23:30:00</th>\n",
       "      <td>4.449609</td>\n",
       "      <td>9.750000</td>\n",
       "      <td>4.71875</td>\n",
       "      <td>0.3</td>\n",
       "    </tr>\n",
       "  </tbody>\n",
       "</table>\n",
       "</div>"
      ],
      "text/plain": [
       "                           NO      PM10    PM2.5   CO\n",
       "ReadingDateTime                                      \n",
       "2020-12-24 21:30:00  7.802051  9.153125  6.59375  0.3\n",
       "2020-12-24 22:00:00  8.686230  8.993750  6.52500  0.3\n",
       "2020-12-24 22:30:00  6.012500  9.343750  6.42500  0.3\n",
       "2020-12-24 23:00:00  6.400293  9.450000  4.74375  0.3\n",
       "2020-12-24 23:30:00  4.449609  9.750000  4.71875  0.3"
      ]
     },
     "execution_count": 24,
     "metadata": {},
     "output_type": "execute_result"
    }
   ],
   "source": [
    "final_df.tail()"
   ]
  },
  {
   "cell_type": "code",
   "execution_count": 20,
   "metadata": {},
   "outputs": [],
   "source": [
    "from matplotlib import pyplot"
   ]
  },
  {
   "cell_type": "code",
   "execution_count": 10,
   "metadata": {},
   "outputs": [
    {
     "data": {
      "image/png": "[encoded data removed]",
      "text/plain": [
       "<Figure size 432x288 with 4 Axes>"
      ]
     },
     "metadata": {},
     "output_type": "display_data"
    }
   ],
   "source": [
    "# line plot for each species\n",
    "pyplot.figure()\n",
    "for i in range(len(final_df.columns)):\n",
    "    # create subplot\n",
    "    pyplot.subplot(len(final_df.columns), 1, i+1)\n",
    "    # get variable name\n",
    "    name = final_df.columns[i]\n",
    "    # plot data\n",
    "    pyplot.plot(final_df[name])\n",
    "    # set title\n",
    "    pyplot.title(name, y=0, loc= 'left')\n",
    "    # turn off ticks to remove clutter\n",
    "    pyplot.yticks([])\n",
    "    pyplot.xticks([])\n",
    "pyplot.show()"
   ]
  },
  {
   "cell_type": "code",
   "execution_count": 11,
   "metadata": {},
   "outputs": [
    {
     "data": {
      "image/png": "[encoded data removed]",
      "text/plain": [
       "<Figure size 432x288 with 4 Axes>"
      ]
     },
     "metadata": {},
     "output_type": "display_data"
    }
   ],
   "source": [
    "# Gaussin ditribution for each species\n",
    "pyplot.figure()\n",
    "for i in range(len(final_df.columns)):\n",
    "    # create subplot\n",
    "    pyplot.subplot(len(final_df.columns), 1, i+1)\n",
    "    # get variable name\n",
    "    name = final_df.columns[i]\n",
    "    # create histogram\n",
    "    final_df[name].hist(bins=100)\n",
    "    # set title\n",
    "    pyplot.title(name, y=0, loc= 'right' )\n",
    "    # turn off ticks to remove clutter\n",
    "    pyplot.yticks([])\n",
    "    pyplot.xticks([])\n",
    "pyplot.show()"
   ]
  },
  {
   "cell_type": "markdown",
   "metadata": {},
   "source": [
    "## LSTM Models "
   ]
  },
  {
   "cell_type": "markdown",
   "metadata": {},
   "source": [
    "### Stacked LSTM"
   ]
  },
  {
   "cell_type": "code",
   "execution_count": 5,
   "metadata": {},
   "outputs": [],
   "source": [
    "from math import sqrt\n",
    "from numpy import split\n",
    "from numpy import array\n",
    "from sklearn.metrics import mean_squared_error\n",
    "from keras.models import Sequential\n",
    "from keras.layers import Dense\n",
    "from keras.layers import LSTM"
   ]
  },
  {
   "cell_type": "code",
   "execution_count": 6,
   "metadata": {},
   "outputs": [
    {
     "name": "stdout",
     "output_type": "stream",
     "text": [
      "Train shape: (13906, 2, 4), Test shape: (3446, 2, 4) and Validate shape: (24, 2, 4)\n"
     ]
    }
   ],
   "source": [
    "train, test, validate = data.split_train_test_dataset(final_df.values)"
   ]
  },
  {
   "cell_type": "code",
   "execution_count": 7,
   "metadata": {},
   "outputs": [
    {
     "data": {
      "text/plain": [
       "<tensorflow.python.keras.callbacks.History at 0x7f416f2e3590>"
      ]
     },
     "execution_count": 7,
     "metadata": {},
     "output_type": "execute_result"
    }
   ],
   "source": [
    "n_input = 2\n",
    "# prepare data\n",
    "train_x, train_y = data.to_supervised(train, n_input)\n",
    "test_x, test_y = data.to_supervised(test, n_input)\n",
    "# define parameters\n",
    "verbose, epochs, batch_size = 0, 50, 64\n",
    "n_timesteps, n_features, n_outputs = train_x.shape[1], train_x.shape[2], train_y.shape[1]\n",
    "# define model\n",
    "model = Sequential()\n",
    "model.add(LSTM(200, activation= 'relu' , input_shape=(n_timesteps, n_features)))\n",
    "model.add(Dense(100, activation= 'relu' ))\n",
    "model.add(Dense(n_outputs))\n",
    "model.compile(loss= 'mse' , optimizer= 'adam' )\n",
    "# fit network\n",
    "model.fit(train_x, train_y, validation_data=(test_x, test_y), epochs=epochs, batch_size=batch_size, verbose=verbose)"
   ]
  },
  {
   "cell_type": "code",
   "execution_count": 8,
   "metadata": {},
   "outputs": [],
   "source": [
    "model.save('./models/stack_lstm.h5')"
   ]
  },
  {
   "cell_type": "code",
   "execution_count": 9,
   "metadata": {},
   "outputs": [],
   "source": [
    "def calculate_rmse( test_y, prediction ):\n",
    "    scores = list()\n",
    "    for i in range(test_y.shape[1]):\n",
    "        # calculate mse\n",
    "        mse = mean_squared_error(test_y[:, i], prediction[:, i])\n",
    "        # calculate rmse\n",
    "        rmse = sqrt(mse)\n",
    "        print( i, rmse)"
   ]
  },
  {
   "cell_type": "markdown",
   "metadata": {},
   "source": [
    "### CNN LSTM"
   ]
  },
  {
   "cell_type": "code",
   "execution_count": 10,
   "metadata": {},
   "outputs": [],
   "source": [
    "from keras.layers import RepeatVector\n",
    "from keras.layers import TimeDistributed"
   ]
  },
  {
   "cell_type": "code",
   "execution_count": 11,
   "metadata": {},
   "outputs": [
    {
     "data": {
      "text/plain": [
       "<tensorflow.python.keras.callbacks.History at 0x7f4130607f10>"
      ]
     },
     "execution_count": 11,
     "metadata": {},
     "output_type": "execute_result"
    }
   ],
   "source": [
    "model1 = Sequential()\n",
    "model1.add(LSTM(200, activation= 'relu' , input_shape=(n_timesteps, n_features)))\n",
    "model1.add(RepeatVector(n_outputs))\n",
    "model1.add(LSTM(200, activation= 'relu' , return_sequences=True))\n",
    "model1.add(TimeDistributed(Dense(100, activation= 'relu' )))\n",
    "model1.add(TimeDistributed(Dense(1)))\n",
    "model1.compile(loss= 'mse' , optimizer= 'adam' )\n",
    "# fit network\n",
    "model1.fit(train_x, train_y, validation_data=(test_x, test_y), epochs=epochs, batch_size=batch_size, verbose=verbose)"
   ]
  },
  {
   "cell_type": "code",
   "execution_count": 12,
   "metadata": {},
   "outputs": [],
   "source": [
    "model1.save('./models/cnn_lstm.h5')"
   ]
  },
  {
   "cell_type": "code",
   "execution_count": 13,
   "metadata": {},
   "outputs": [],
   "source": [
    "validate_x, validate_y = data.to_supervised(validate, n_input)"
   ]
  },
  {
   "cell_type": "code",
   "execution_count": 14,
   "metadata": {},
   "outputs": [],
   "source": [
    "forecast1 = model.predict( validate_x, verbose=verbose)"
   ]
  },
  {
   "cell_type": "code",
   "execution_count": 15,
   "metadata": {},
   "outputs": [
    {
     "name": "stdout",
     "output_type": "stream",
     "text": [
      "Stacked LSTM RMSE score on validation data for 24 hour. Where 0: NO, 1: PM10, 2: PM2.5 and 3: CO;\n",
      "0 2.783651622176237\n",
      "1 1.0606114519737653\n",
      "2 0.5725686504998895\n",
      "3 0.06547545950053096\n"
     ]
    }
   ],
   "source": [
    "#Stacked LSTM RMSE score on validation data for 24 hour\n",
    "print('Stacked LSTM RMSE score on validation data for 24 hour. Where 0: NO, 1: PM10, 2: PM2.5 and 3: CO;')\n",
    "calculate_rmse( validate_y, forecast1 )"
   ]
  },
  {
   "cell_type": "code",
   "execution_count": 16,
   "metadata": {},
   "outputs": [],
   "source": [
    "forecast2 = model1.predict( validate_x, verbose=verbose)"
   ]
  },
  {
   "cell_type": "code",
   "execution_count": 17,
   "metadata": {},
   "outputs": [
    {
     "name": "stdout",
     "output_type": "stream",
     "text": [
      "CNN-LSTM RMSE score on validation data for 24 hour. Where 0: NO, 1: PM10, 2: PM2.5 and 3: CO;\n",
      "0 2.82045412436636\n",
      "1 1.1144665234400506\n",
      "2 0.7078773838918279\n",
      "3 0.08435895774828694\n"
     ]
    }
   ],
   "source": [
    "#CNN-LSTM RMSE score on validation data for 24 hour\n",
    "print('CNN-LSTM RMSE score on validation data for 24 hour. Where 0: NO, 1: PM10, 2: PM2.5 and 3: CO;')\n",
    "calculate_rmse( validate_y, forecast2 )"
   ]
  },
  {
   "cell_type": "code",
   "execution_count": 18,
   "metadata": {},
   "outputs": [],
   "source": [
    "def forecast_graph( actual, predicted ):\n",
    "    pyplot.plot(actual[:,3], label='CO')\n",
    "    pyplot.plot(predicted[:,3], label='CO`')\n",
    "    pyplot.plot(actual[:,0], label='NO')\n",
    "    pyplot.plot(predicted[:,0], label='NO`')\n",
    "    pyplot.plot(actual[:,1], label='PM10')\n",
    "    pyplot.plot(predicted[:,1], label='PM10`')\n",
    "    pyplot.plot(actual[:,2], label='PM2.5')\n",
    "    pyplot.plot(predicted[:,2], label='PM2.5`')\n",
    "    pyplot.legend()\n",
    "    pyplot.show()"
   ]
  },
  {
   "cell_type": "code",
   "execution_count": 21,
   "metadata": {},
   "outputs": [
    {
     "data": {
      "image/png": "[encoded data removed]",
      "text/plain": [
       "<Figure size 432x288 with 1 Axes>"
      ]
     },
     "metadata": {
      "needs_background": "light"
     },
     "output_type": "display_data"
    },
    {
     "name": "stdout",
     "output_type": "stream",
     "text": [
      "CNN-LSTM forecast acutal vs predicted\n"
     ]
    }
   ],
   "source": [
    "forecast_graph( validate_y, forecast2 )\n",
    "print('CNN-LSTM forecast acutal vs predicted')"
   ]
  },
  {
   "cell_type": "code",
   "execution_count": 22,
   "metadata": {},
   "outputs": [
    {
     "data": {
      "image/png": "[encoded data removed]",
      "text/plain": [
       "<Figure size 432x288 with 1 Axes>"
      ]
     },
     "metadata": {
      "needs_background": "light"
     },
     "output_type": "display_data"
    },
    {
     "name": "stdout",
     "output_type": "stream",
     "text": [
      "Stacked LSTM forecast acutal vs predicted\n"
     ]
    }
   ],
   "source": [
    "forecast_graph( validate_y, forecast1 )\n",
    "print('Stacked LSTM forecast acutal vs predicted')"
   ]
  },
  {
   "cell_type": "code",
   "execution_count": 23,
   "metadata": {},
   "outputs": [
    {
     "data": {
      "text/plain": [
       "array([[2.50585938, 4.428125  , 1.86875   , 0.3       ],\n",
       "       [1.128125  , 4.278125  , 1.69375   , 0.3       ]])"
      ]
     },
     "execution_count": 23,
     "metadata": {},
     "output_type": "execute_result"
    }
   ],
   "source": [
    "validate_x[0]"
   ]
  },
  {
   "cell_type": "code",
   "execution_count": null,
   "metadata": {},
   "outputs": [],
   "source": []
  }
 ],
 "metadata": {
  "kernelspec": {
   "display_name": "Python 3",
   "language": "python",
   "name": "python3"
  },
  "language_info": {
   "codemirror_mode": {
    "name": "ipython",
    "version": 3
   },
   "file_extension": ".py",
   "mimetype": "text/x-python",
   "name": "python",
   "nbconvert_exporter": "python",
   "pygments_lexer": "ipython3",
   "version": "3.7.4"
  }
 },
 "nbformat": 4,
 "nbformat_minor": 4
}
